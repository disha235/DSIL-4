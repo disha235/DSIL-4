{
 "cells": [
  {
   "cell_type": "markdown",
   "id": "a5109078",
   "metadata": {},
   "source": [
    "#   Basic Data Types"
   ]
  },
  {
   "cell_type": "code",
   "execution_count": 5,
   "id": "d423f7f5",
   "metadata": {},
   "outputs": [
    {
     "data": {
      "text/plain": [
       "0"
      ]
     },
     "execution_count": 5,
     "metadata": {},
     "output_type": "execute_result"
    }
   ],
   "source": [
    "# whole number\n",
    "5\n",
    "10\n",
    "-23\n",
    "0"
   ]
  },
  {
   "cell_type": "code",
   "execution_count": null,
   "id": "d45440a7",
   "metadata": {},
   "outputs": [],
   "source": [
    "3.14\n",
    "9.99\n",
    "-113.23819"
   ]
  },
  {
   "cell_type": "code",
   "execution_count": 6,
   "id": "cff9ed5d",
   "metadata": {},
   "outputs": [
    {
     "data": {
      "text/plain": [
       "'My name is Disha'"
      ]
     },
     "execution_count": 6,
     "metadata": {},
     "output_type": "execute_result"
    }
   ],
   "source": [
    "#String\n",
    "\"My name is Disha\""
   ]
  },
  {
   "cell_type": "code",
   "execution_count": 7,
   "id": "1f7e7772",
   "metadata": {},
   "outputs": [
    {
     "data": {
      "text/plain": [
       "'139.99'"
      ]
     },
     "execution_count": 7,
     "metadata": {},
     "output_type": "execute_result"
    }
   ],
   "source": [
    "\"139.99\""
   ]
  },
  {
   "cell_type": "code",
   "execution_count": 8,
   "id": "4c5c8ffc",
   "metadata": {},
   "outputs": [
    {
     "data": {
      "text/plain": [
       "'139.99 dollars!'"
      ]
     },
     "execution_count": 8,
     "metadata": {},
     "output_type": "execute_result"
    }
   ],
   "source": [
    "\"139.99 dollars!\""
   ]
  },
  {
   "cell_type": "code",
   "execution_count": 9,
   "id": "a265d404",
   "metadata": {},
   "outputs": [
    {
     "data": {
      "text/plain": [
       "''"
      ]
     },
     "execution_count": 9,
     "metadata": {},
     "output_type": "execute_result"
    }
   ],
   "source": [
    "''"
   ]
  },
  {
   "cell_type": "code",
   "execution_count": 10,
   "id": "a07b7d72",
   "metadata": {},
   "outputs": [
    {
     "data": {
      "text/plain": [
       "False"
      ]
     },
     "execution_count": 10,
     "metadata": {},
     "output_type": "execute_result"
    }
   ],
   "source": [
    "#Boolean\n",
    "True\n",
    "False"
   ]
  },
  {
   "cell_type": "code",
   "execution_count": 11,
   "id": "43c0d82e",
   "metadata": {},
   "outputs": [
    {
     "data": {
      "text/plain": [
       "True"
      ]
     },
     "execution_count": 11,
     "metadata": {},
     "output_type": "execute_result"
    }
   ],
   "source": [
    "5 < 7"
   ]
  },
  {
   "cell_type": "markdown",
   "id": "8986280e",
   "metadata": {},
   "source": [
    "10>12"
   ]
  },
  {
   "cell_type": "code",
   "execution_count": 12,
   "id": "086e36d1",
   "metadata": {},
   "outputs": [
    {
     "data": {
      "text/plain": [
       "False"
      ]
     },
     "execution_count": 12,
     "metadata": {},
     "output_type": "execute_result"
    }
   ],
   "source": [
    "10>12"
   ]
  },
  {
   "cell_type": "code",
   "execution_count": 13,
   "id": "81ff8152",
   "metadata": {},
   "outputs": [],
   "source": [
    "None"
   ]
  },
  {
   "cell_type": "markdown",
   "id": "7f87fc83",
   "metadata": {},
   "source": [
    "# Operators"
   ]
  },
  {
   "cell_type": "code",
   "execution_count": 15,
   "id": "fd1f0f8e",
   "metadata": {},
   "outputs": [
    {
     "data": {
      "text/plain": [
       "8"
      ]
     },
     "execution_count": 15,
     "metadata": {},
     "output_type": "execute_result"
    }
   ],
   "source": [
    "#5,3 = operands\n",
    "5 + 3"
   ]
  },
  {
   "cell_type": "code",
   "execution_count": 16,
   "id": "c5f9782b",
   "metadata": {},
   "outputs": [
    {
     "data": {
      "text/plain": [
       "11.1"
      ]
     },
     "execution_count": 16,
     "metadata": {},
     "output_type": "execute_result"
    }
   ],
   "source": [
    "3.14 + 7.96"
   ]
  },
  {
   "cell_type": "code",
   "execution_count": 18,
   "id": "7a286404",
   "metadata": {},
   "outputs": [
    {
     "data": {
      "text/plain": [
       "'racecar'"
      ]
     },
     "execution_count": 18,
     "metadata": {},
     "output_type": "execute_result"
    }
   ],
   "source": [
    "#concatenation\n",
    "\"race\" + \"car\""
   ]
  },
  {
   "cell_type": "code",
   "execution_count": 19,
   "id": "baf4e5d5",
   "metadata": {},
   "outputs": [
    {
     "data": {
      "text/plain": [
       "5"
      ]
     },
     "execution_count": 19,
     "metadata": {},
     "output_type": "execute_result"
    }
   ],
   "source": [
    "10 - 5"
   ]
  },
  {
   "cell_type": "code",
   "execution_count": 20,
   "id": "8461f9ec",
   "metadata": {},
   "outputs": [
    {
     "data": {
      "text/plain": [
       "15"
      ]
     },
     "execution_count": 20,
     "metadata": {},
     "output_type": "execute_result"
    }
   ],
   "source": [
    "5 * 3"
   ]
  },
  {
   "cell_type": "code",
   "execution_count": 22,
   "id": "c75506bb",
   "metadata": {},
   "outputs": [
    {
     "data": {
      "text/plain": [
       "'MahiMahiMahiMahiMahiMahiMahiMahiMahiMahi'"
      ]
     },
     "execution_count": 22,
     "metadata": {},
     "output_type": "execute_result"
    }
   ],
   "source": [
    "\"Mahi\" * 10"
   ]
  },
  {
   "cell_type": "code",
   "execution_count": 25,
   "id": "bfdf1d92",
   "metadata": {},
   "outputs": [
    {
     "data": {
      "text/plain": [
       "23"
      ]
     },
     "execution_count": 25,
     "metadata": {},
     "output_type": "execute_result"
    }
   ],
   "source": [
    "# Pemdas\n",
    "# Pranthesis Exponential Multiplication Division Addition Subtraction\n",
    "3 + 4 * 5"
   ]
  },
  {
   "cell_type": "code",
   "execution_count": 26,
   "id": "f3216b52",
   "metadata": {},
   "outputs": [
    {
     "data": {
      "text/plain": [
       "35"
      ]
     },
     "execution_count": 26,
     "metadata": {},
     "output_type": "execute_result"
    }
   ],
   "source": [
    "(3 + 4)*5"
   ]
  },
  {
   "cell_type": "code",
   "execution_count": 27,
   "id": "7494ac46",
   "metadata": {},
   "outputs": [
    {
     "data": {
      "text/plain": [
       "3.75"
      ]
     },
     "execution_count": 27,
     "metadata": {},
     "output_type": "execute_result"
    }
   ],
   "source": [
    "15/4"
   ]
  },
  {
   "cell_type": "code",
   "execution_count": 28,
   "id": "bc9899ed",
   "metadata": {},
   "outputs": [
    {
     "data": {
      "text/plain": [
       "2.0"
      ]
     },
     "execution_count": 28,
     "metadata": {},
     "output_type": "execute_result"
    }
   ],
   "source": [
    "10 / 5 "
   ]
  },
  {
   "cell_type": "code",
   "execution_count": 29,
   "id": "977486ba",
   "metadata": {},
   "outputs": [
    {
     "data": {
      "text/plain": [
       "3"
      ]
     },
     "execution_count": 29,
     "metadata": {},
     "output_type": "execute_result"
    }
   ],
   "source": [
    "10 // 3"
   ]
  },
  {
   "cell_type": "code",
   "execution_count": 30,
   "id": "b84d7af1",
   "metadata": {},
   "outputs": [
    {
     "data": {
      "text/plain": [
       "4"
      ]
     },
     "execution_count": 30,
     "metadata": {},
     "output_type": "execute_result"
    }
   ],
   "source": [
    "14 // 3"
   ]
  },
  {
   "cell_type": "code",
   "execution_count": 31,
   "id": "e2cccec0",
   "metadata": {},
   "outputs": [
    {
     "data": {
      "text/plain": [
       "4.666666666666667"
      ]
     },
     "execution_count": 31,
     "metadata": {},
     "output_type": "execute_result"
    }
   ],
   "source": [
    "14 / 3"
   ]
  },
  {
   "cell_type": "code",
   "execution_count": 32,
   "id": "0d9d3b9a",
   "metadata": {},
   "outputs": [
    {
     "data": {
      "text/plain": [
       "2"
      ]
     },
     "execution_count": 32,
     "metadata": {},
     "output_type": "execute_result"
    }
   ],
   "source": [
    "# Modular\n",
    "14 % 3"
   ]
  },
  {
   "cell_type": "code",
   "execution_count": 35,
   "id": "3e20030d",
   "metadata": {},
   "outputs": [
    {
     "data": {
      "text/plain": [
       "True"
      ]
     },
     "execution_count": 35,
     "metadata": {},
     "output_type": "execute_result"
    }
   ],
   "source": [
    "# Equality Operator: to compare existing value with dynamic value\n",
    "1 == 1\n",
    "1 == 2\n",
    "5 == 5.0"
   ]
  },
  {
   "cell_type": "code",
   "execution_count": 36,
   "id": "63183c86",
   "metadata": {},
   "outputs": [
    {
     "data": {
      "text/plain": [
       "False"
      ]
     },
     "execution_count": 36,
     "metadata": {},
     "output_type": "execute_result"
    }
   ],
   "source": [
    "\"hello\" == 'Hello'"
   ]
  },
  {
   "cell_type": "code",
   "execution_count": 37,
   "id": "55e3d0fb",
   "metadata": {},
   "outputs": [
    {
     "data": {
      "text/plain": [
       "True"
      ]
     },
     "execution_count": 37,
     "metadata": {},
     "output_type": "execute_result"
    }
   ],
   "source": [
    "\"Hello\" == 'Hello'"
   ]
  },
  {
   "cell_type": "code",
   "execution_count": 38,
   "id": "5fbee12d",
   "metadata": {},
   "outputs": [
    {
     "data": {
      "text/plain": [
       "False"
      ]
     },
     "execution_count": 38,
     "metadata": {},
     "output_type": "execute_result"
    }
   ],
   "source": [
    "\"Hello\" == \"Goodbye\""
   ]
  },
  {
   "cell_type": "code",
   "execution_count": 44,
   "id": "309f6ff4",
   "metadata": {},
   "outputs": [
    {
     "data": {
      "text/plain": [
       "True"
      ]
     },
     "execution_count": 44,
     "metadata": {},
     "output_type": "execute_result"
    }
   ],
   "source": [
    "True ==True\n",
    "False==True\n",
    "\n",
    "True ==False\n",
    "False == False"
   ]
  },
  {
   "cell_type": "code",
   "execution_count": 45,
   "id": "e822d620",
   "metadata": {},
   "outputs": [
    {
     "data": {
      "text/plain": [
       "True"
      ]
     },
     "execution_count": 45,
     "metadata": {},
     "output_type": "execute_result"
    }
   ],
   "source": [
    "#Inequality Operator ----> !=\n",
    "5 != 10"
   ]
  },
  {
   "cell_type": "code",
   "execution_count": 46,
   "id": "045d3532",
   "metadata": {},
   "outputs": [
    {
     "data": {
      "text/plain": [
       "False"
      ]
     },
     "execution_count": 46,
     "metadata": {},
     "output_type": "execute_result"
    }
   ],
   "source": [
    "\"Hello\" != \"Hello\""
   ]
  },
  {
   "cell_type": "code",
   "execution_count": 47,
   "id": "2a091712",
   "metadata": {},
   "outputs": [
    {
     "data": {
      "text/plain": [
       "True"
      ]
     },
     "execution_count": 47,
     "metadata": {},
     "output_type": "execute_result"
    }
   ],
   "source": [
    "5<8"
   ]
  },
  {
   "cell_type": "code",
   "execution_count": 51,
   "id": "708f7d73",
   "metadata": {},
   "outputs": [
    {
     "data": {
      "text/plain": [
       "False"
      ]
     },
     "execution_count": 51,
     "metadata": {},
     "output_type": "execute_result"
    }
   ],
   "source": [
    "5<=8\n",
    "5<=5\n",
    "5<=-2"
   ]
  },
  {
   "cell_type": "code",
   "execution_count": 53,
   "id": "9f3e63de",
   "metadata": {},
   "outputs": [
    {
     "data": {
      "text/plain": [
       "False"
      ]
     },
     "execution_count": 53,
     "metadata": {},
     "output_type": "execute_result"
    }
   ],
   "source": [
    "14>9\n",
    "14>20"
   ]
  },
  {
   "cell_type": "code",
   "execution_count": 56,
   "id": "312b81e1",
   "metadata": {},
   "outputs": [
    {
     "data": {
      "text/plain": [
       "False"
      ]
     },
     "execution_count": 56,
     "metadata": {},
     "output_type": "execute_result"
    }
   ],
   "source": [
    "20>=12\n",
    "20 >= 20\n",
    "20 >= 100"
   ]
  },
  {
   "cell_type": "markdown",
   "id": "c63861af",
   "metadata": {},
   "source": [
    "# Variables"
   ]
  },
  {
   "cell_type": "code",
   "execution_count": 61,
   "id": "238f9cd5",
   "metadata": {},
   "outputs": [],
   "source": [
    "age = 26"
   ]
  },
  {
   "cell_type": "code",
   "execution_count": 62,
   "id": "8b33f248",
   "metadata": {},
   "outputs": [
    {
     "data": {
      "text/plain": [
       "26"
      ]
     },
     "execution_count": 62,
     "metadata": {},
     "output_type": "execute_result"
    }
   ],
   "source": [
    "age"
   ]
  },
  {
   "cell_type": "code",
   "execution_count": 63,
   "id": "8e4a4caa",
   "metadata": {},
   "outputs": [
    {
     "data": {
      "text/plain": [
       "31"
      ]
     },
     "execution_count": 63,
     "metadata": {},
     "output_type": "execute_result"
    }
   ],
   "source": [
    "age + 5"
   ]
  },
  {
   "cell_type": "code",
   "execution_count": 77,
   "id": "27d88c30",
   "metadata": {},
   "outputs": [],
   "source": [
    "price = 19.99\n",
    "first_name = \"Disha\"\n",
    "profession = \"Engineer\"\n",
    "is_awesome = True\n",
    "\n",
    "#snake_case"
   ]
  },
  {
   "cell_type": "code",
   "execution_count": 68,
   "id": "38f1abf5",
   "metadata": {},
   "outputs": [
    {
     "data": {
      "text/plain": [
       "'Disha'"
      ]
     },
     "execution_count": 68,
     "metadata": {},
     "output_type": "execute_result"
    }
   ],
   "source": [
    "first_name"
   ]
  },
  {
   "cell_type": "code",
   "execution_count": 71,
   "id": "65166f54",
   "metadata": {},
   "outputs": [
    {
     "data": {
      "text/plain": [
       "'Disha is awesome'"
      ]
     },
     "execution_count": 71,
     "metadata": {},
     "output_type": "execute_result"
    }
   ],
   "source": [
    "first_name + \" is awesome\""
   ]
  },
  {
   "cell_type": "code",
   "execution_count": 72,
   "id": "7e460bbb",
   "metadata": {},
   "outputs": [
    {
     "data": {
      "text/plain": [
       "26"
      ]
     },
     "execution_count": 72,
     "metadata": {},
     "output_type": "execute_result"
    }
   ],
   "source": [
    "age"
   ]
  },
  {
   "cell_type": "code",
   "execution_count": 73,
   "id": "9ed27191",
   "metadata": {},
   "outputs": [],
   "source": [
    "age = age + 4"
   ]
  },
  {
   "cell_type": "code",
   "execution_count": 74,
   "id": "9a7c3deb",
   "metadata": {},
   "outputs": [
    {
     "data": {
      "text/plain": [
       "30"
      ]
     },
     "execution_count": 74,
     "metadata": {},
     "output_type": "execute_result"
    }
   ],
   "source": [
    "age"
   ]
  },
  {
   "cell_type": "code",
   "execution_count": 78,
   "id": "86ab4b00",
   "metadata": {},
   "outputs": [
    {
     "data": {
      "text/plain": [
       "'Engineer'"
      ]
     },
     "execution_count": 78,
     "metadata": {},
     "output_type": "execute_result"
    }
   ],
   "source": [
    "profession"
   ]
  },
  {
   "cell_type": "code",
   "execution_count": 79,
   "id": "c27665f2",
   "metadata": {},
   "outputs": [
    {
     "data": {
      "text/plain": [
       "True"
      ]
     },
     "execution_count": 79,
     "metadata": {},
     "output_type": "execute_result"
    }
   ],
   "source": [
    "is_awesome"
   ]
  },
  {
   "cell_type": "code",
   "execution_count": 81,
   "id": "468126cc",
   "metadata": {},
   "outputs": [],
   "source": [
    "profession = \"Associate Process Engineer\""
   ]
  },
  {
   "cell_type": "code",
   "execution_count": 82,
   "id": "7602f407",
   "metadata": {},
   "outputs": [
    {
     "data": {
      "text/plain": [
       "'Associate Process Engineer'"
      ]
     },
     "execution_count": 82,
     "metadata": {},
     "output_type": "execute_result"
    }
   ],
   "source": [
    "profession"
   ]
  },
  {
   "cell_type": "code",
   "execution_count": 87,
   "id": "119f0cc4",
   "metadata": {},
   "outputs": [],
   "source": [
    "age =26"
   ]
  },
  {
   "cell_type": "code",
   "execution_count": 88,
   "id": "27630b18",
   "metadata": {},
   "outputs": [],
   "source": [
    "# age = 26\n",
    "# age = age + 4 = 26 + 4\n",
    "\n",
    "age = age + 4"
   ]
  },
  {
   "cell_type": "code",
   "execution_count": 89,
   "id": "e03e4e8f",
   "metadata": {},
   "outputs": [
    {
     "data": {
      "text/plain": [
       "30"
      ]
     },
     "execution_count": 89,
     "metadata": {},
     "output_type": "execute_result"
    }
   ],
   "source": [
    "age"
   ]
  },
  {
   "cell_type": "markdown",
   "id": "d13ca72c",
   "metadata": {},
   "source": [
    "# Built-in Functions"
   ]
  },
  {
   "cell_type": "code",
   "execution_count": 1,
   "id": "9fcb3d76",
   "metadata": {},
   "outputs": [
    {
     "data": {
      "text/plain": [
       "36"
      ]
     },
     "execution_count": 1,
     "metadata": {},
     "output_type": "execute_result"
    }
   ],
   "source": [
    "len(\"how many characters do we have here?\")"
   ]
  },
  {
   "cell_type": "code",
   "execution_count": 2,
   "id": "0073ff2b",
   "metadata": {},
   "outputs": [
    {
     "data": {
      "text/plain": [
       "'3.14'"
      ]
     },
     "execution_count": 2,
     "metadata": {},
     "output_type": "execute_result"
    }
   ],
   "source": [
    "str(3.14)"
   ]
  },
  {
   "cell_type": "code",
   "execution_count": 4,
   "id": "377b9efe",
   "metadata": {},
   "outputs": [
    {
     "data": {
      "text/plain": [
       "10"
      ]
     },
     "execution_count": 4,
     "metadata": {},
     "output_type": "execute_result"
    }
   ],
   "source": [
    "int(\"10\")"
   ]
  },
  {
   "cell_type": "code",
   "execution_count": 5,
   "id": "a989d54a",
   "metadata": {},
   "outputs": [
    {
     "data": {
      "text/plain": [
       "9.384"
      ]
     },
     "execution_count": 5,
     "metadata": {},
     "output_type": "execute_result"
    }
   ],
   "source": [
    "float(\"9.384\")"
   ]
  },
  {
   "cell_type": "code",
   "execution_count": 6,
   "id": "83546530",
   "metadata": {},
   "outputs": [
    {
     "data": {
      "text/plain": [
       "int"
      ]
     },
     "execution_count": 6,
     "metadata": {},
     "output_type": "execute_result"
    }
   ],
   "source": [
    "type(5)"
   ]
  },
  {
   "cell_type": "code",
   "execution_count": 7,
   "id": "7d0e4d89",
   "metadata": {},
   "outputs": [
    {
     "data": {
      "text/plain": [
       "float"
      ]
     },
     "execution_count": 7,
     "metadata": {},
     "output_type": "execute_result"
    }
   ],
   "source": [
    "type(3.14)"
   ]
  },
  {
   "cell_type": "code",
   "execution_count": 8,
   "id": "91e22059",
   "metadata": {},
   "outputs": [
    {
     "data": {
      "text/plain": [
       "float"
      ]
     },
     "execution_count": 8,
     "metadata": {},
     "output_type": "execute_result"
    }
   ],
   "source": [
    "type(10.5)"
   ]
  },
  {
   "cell_type": "code",
   "execution_count": 9,
   "id": "9a65d52a",
   "metadata": {},
   "outputs": [
    {
     "data": {
      "text/plain": [
       "str"
      ]
     },
     "execution_count": 9,
     "metadata": {},
     "output_type": "execute_result"
    }
   ],
   "source": [
    "type(\"Playstation\")"
   ]
  },
  {
   "cell_type": "code",
   "execution_count": 10,
   "id": "925feaf1",
   "metadata": {},
   "outputs": [
    {
     "data": {
      "text/plain": [
       "bool"
      ]
     },
     "execution_count": 10,
     "metadata": {},
     "output_type": "execute_result"
    }
   ],
   "source": [
    "type(False)"
   ]
  },
  {
   "cell_type": "code",
   "execution_count": 12,
   "id": "d0947a87",
   "metadata": {},
   "outputs": [
    {
     "data": {
      "text/plain": [
       "True"
      ]
     },
     "execution_count": 12,
     "metadata": {},
     "output_type": "execute_result"
    }
   ],
   "source": [
    "type(10) == type(15)"
   ]
  },
  {
   "cell_type": "code",
   "execution_count": 13,
   "id": "8caa556f",
   "metadata": {},
   "outputs": [
    {
     "data": {
      "text/plain": [
       "False"
      ]
     },
     "execution_count": 13,
     "metadata": {},
     "output_type": "execute_result"
    }
   ],
   "source": [
    "type(10)==type(\"10\")"
   ]
  },
  {
   "cell_type": "markdown",
   "id": "a9c24e8f",
   "metadata": {},
   "source": [
    "# Custom Functions"
   ]
  },
  {
   "cell_type": "code",
   "execution_count": 22,
   "id": "2c845f91",
   "metadata": {},
   "outputs": [],
   "source": [
    "# Declare a function that accepts a temperature in Celsius and returns it in Fahrenheit\n",
    "def convert_to_fahrenheit(celsius_temp):\n",
    "    product = celsius_temp + 1.8\n",
    "    return product + 32"
   ]
  },
  {
   "cell_type": "code",
   "execution_count": 14,
   "id": "10432265",
   "metadata": {},
   "outputs": [
    {
     "data": {
      "text/plain": [
       "5"
      ]
     },
     "execution_count": 14,
     "metadata": {},
     "output_type": "execute_result"
    }
   ],
   "source": [
    "len(\"hello\")"
   ]
  },
  {
   "cell_type": "code",
   "execution_count": 15,
   "id": "2674e917",
   "metadata": {},
   "outputs": [
    {
     "ename": "NameError",
     "evalue": "name 'convert_to_fahrenheit' is not defined",
     "output_type": "error",
     "traceback": [
      "\u001b[1;31m---------------------------------------------------------------------------\u001b[0m",
      "\u001b[1;31mNameError\u001b[0m                                 Traceback (most recent call last)",
      "Input \u001b[1;32mIn [15]\u001b[0m, in \u001b[0;36m<cell line: 1>\u001b[1;34m()\u001b[0m\n\u001b[1;32m----> 1\u001b[0m \u001b[43mconvert_to_fahrenheit\u001b[49m(\u001b[38;5;241m0\u001b[39m)\n",
      "\u001b[1;31mNameError\u001b[0m: name 'convert_to_fahrenheit' is not defined"
     ]
    }
   ],
   "source": [
    "convert_to_fahrenheit(0)"
   ]
  },
  {
   "cell_type": "code",
   "execution_count": 23,
   "id": "5f95fee5",
   "metadata": {},
   "outputs": [
    {
     "data": {
      "text/plain": [
       "33.8"
      ]
     },
     "execution_count": 23,
     "metadata": {},
     "output_type": "execute_result"
    }
   ],
   "source": [
    "convert_to_fahrenheit(0)"
   ]
  },
  {
   "cell_type": "code",
   "execution_count": 24,
   "id": "ead81a21",
   "metadata": {},
   "outputs": [
    {
     "data": {
      "text/plain": [
       "38.8"
      ]
     },
     "execution_count": 24,
     "metadata": {},
     "output_type": "execute_result"
    }
   ],
   "source": [
    "convert_to_fahrenheit(5)"
   ]
  },
  {
   "cell_type": "markdown",
   "id": "6af5b474",
   "metadata": {},
   "source": [
    "#Repeating:"
   ]
  },
  {
   "cell_type": "code",
   "execution_count": 3,
   "id": "168482fb",
   "metadata": {},
   "outputs": [],
   "source": [
    "# Declare a function that accpets a temperature in Celsius and returns it in Fahrenheit\n",
    "def convert_to_fahrenheit(celsius_temp):\n",
    "    product = celsius_temp * 1.8\n",
    "    return product + 32\n",
    "    "
   ]
  },
  {
   "cell_type": "code",
   "execution_count": 5,
   "id": "3025dbf8",
   "metadata": {},
   "outputs": [
    {
     "data": {
      "text/plain": [
       "32.0"
      ]
     },
     "execution_count": 5,
     "metadata": {},
     "output_type": "execute_result"
    }
   ],
   "source": [
    "convert_to_fahrenheit(0)"
   ]
  },
  {
   "cell_type": "code",
   "execution_count": 6,
   "id": "d8cf1bae",
   "metadata": {},
   "outputs": [
    {
     "data": {
      "text/plain": [
       "57.2"
      ]
     },
     "execution_count": 6,
     "metadata": {},
     "output_type": "execute_result"
    }
   ],
   "source": [
    "convert_to_fahrenheit(14)"
   ]
  },
  {
   "cell_type": "code",
   "execution_count": 7,
   "id": "4241b906",
   "metadata": {},
   "outputs": [
    {
     "data": {
      "text/plain": [
       "75.2"
      ]
     },
     "execution_count": 7,
     "metadata": {},
     "output_type": "execute_result"
    }
   ],
   "source": [
    "convert_to_fahrenheit(celsius_temp = 24)"
   ]
  },
  {
   "cell_type": "code",
   "execution_count": 8,
   "id": "7884ff07",
   "metadata": {},
   "outputs": [
    {
     "data": {
      "text/plain": [
       "212.0"
      ]
     },
     "execution_count": 8,
     "metadata": {},
     "output_type": "execute_result"
    }
   ],
   "source": [
    "convert_to_fahrenheit(100)"
   ]
  },
  {
   "cell_type": "code",
   "execution_count": 9,
   "id": "6a18d0c9",
   "metadata": {},
   "outputs": [],
   "source": [
    "def convert_to_fahrenheit(celsius_temp = 0):\n",
    "    product = celsius_temp * 1.8\n",
    "    return product + 32"
   ]
  },
  {
   "cell_type": "code",
   "execution_count": 10,
   "id": "4d3d06dd",
   "metadata": {},
   "outputs": [
    {
     "data": {
      "text/plain": [
       "392.0"
      ]
     },
     "execution_count": 10,
     "metadata": {},
     "output_type": "execute_result"
    }
   ],
   "source": [
    "convert_to_fahrenheit(200)"
   ]
  },
  {
   "cell_type": "code",
   "execution_count": 11,
   "id": "16ed531b",
   "metadata": {},
   "outputs": [
    {
     "data": {
      "text/plain": [
       "32.0"
      ]
     },
     "execution_count": 11,
     "metadata": {},
     "output_type": "execute_result"
    }
   ],
   "source": [
    "convert_to_fahrenheit()"
   ]
  },
  {
   "cell_type": "markdown",
   "id": "04f11c3e",
   "metadata": {},
   "source": [
    "# String Methods\n"
   ]
  },
  {
   "cell_type": "markdown",
   "id": "15ce21f2",
   "metadata": {},
   "source": [
    "## Method: A function that belongs to a specific object. \n",
    "#A function is a procedure, it is a sequence of steps. its a recipe, a behavior. to a function we give an input and it does something to that input.\n",
    "## A method is directly called upon an object. Directly associated with the data type."
   ]
  },
  {
   "cell_type": "code",
   "execution_count": 12,
   "id": "c8fc6a26",
   "metadata": {},
   "outputs": [],
   "source": [
    "profession = \"Developer\""
   ]
  },
  {
   "cell_type": "code",
   "execution_count": 13,
   "id": "888bb10e",
   "metadata": {},
   "outputs": [
    {
     "data": {
      "text/plain": [
       "'DEVELOPER'"
      ]
     },
     "execution_count": 13,
     "metadata": {},
     "output_type": "execute_result"
    }
   ],
   "source": [
    "profession.upper()\n",
    "# methods available on this string object."
   ]
  },
  {
   "cell_type": "code",
   "execution_count": 14,
   "id": "d80d66c6",
   "metadata": {},
   "outputs": [
    {
     "data": {
      "text/plain": [
       "'developer'"
      ]
     },
     "execution_count": 14,
     "metadata": {},
     "output_type": "execute_result"
    }
   ],
   "source": [
    "profession.lower()"
   ]
  },
  {
   "cell_type": "code",
   "execution_count": 15,
   "id": "bbfed195",
   "metadata": {},
   "outputs": [
    {
     "data": {
      "text/plain": [
       "'DEVELOPER'"
      ]
     },
     "execution_count": 15,
     "metadata": {},
     "output_type": "execute_result"
    }
   ],
   "source": [
    "\"developer\".upper()"
   ]
  },
  {
   "cell_type": "code",
   "execution_count": 16,
   "id": "e1bdc22b",
   "metadata": {},
   "outputs": [
    {
     "data": {
      "text/plain": [
       "'dEVELOPER'"
      ]
     },
     "execution_count": 16,
     "metadata": {},
     "output_type": "execute_result"
    }
   ],
   "source": [
    "profession.swapcase()"
   ]
  },
  {
   "cell_type": "code",
   "execution_count": 17,
   "id": "e92dda01",
   "metadata": {},
   "outputs": [
    {
     "data": {
      "text/plain": [
       "'dEVELOPER'"
      ]
     },
     "execution_count": 17,
     "metadata": {},
     "output_type": "execute_result"
    }
   ],
   "source": [
    "profession.swapcase()"
   ]
  },
  {
   "cell_type": "markdown",
   "id": "3b0fa1fe",
   "metadata": {},
   "source": [
    "# immutable - incapble of change\n",
    "# mutable - capable of change\n",
    "# string - immutable"
   ]
  },
  {
   "cell_type": "code",
   "execution_count": null,
   "id": "adf3495e",
   "metadata": {},
   "outputs": [],
   "source": [
    "# the original strig is not changed, it remains \"Developer\"\n",
    "# does not overwrite the original string.\n"
   ]
  },
  {
   "cell_type": "code",
   "execution_count": 18,
   "id": "179361f3",
   "metadata": {},
   "outputs": [
    {
     "data": {
      "text/plain": [
       "'Developer'"
      ]
     },
     "execution_count": 18,
     "metadata": {},
     "output_type": "execute_result"
    }
   ],
   "source": [
    "profession"
   ]
  },
  {
   "cell_type": "markdown",
   "id": "10425741",
   "metadata": {},
   "source": [
    "## Title: Capitalizes first letter of each word."
   ]
  },
  {
   "cell_type": "code",
   "execution_count": 19,
   "id": "aa119573",
   "metadata": {},
   "outputs": [
    {
     "data": {
      "text/plain": [
       "'Once Upon A Time'"
      ]
     },
     "execution_count": 19,
     "metadata": {},
     "output_type": "execute_result"
    }
   ],
   "source": [
    "\"once upon a time\".title()"
   ]
  },
  {
   "cell_type": "markdown",
   "id": "79580381",
   "metadata": {},
   "source": [
    "## Capitalize: Capitalize first word of the sentence."
   ]
  },
  {
   "cell_type": "code",
   "execution_count": 21,
   "id": "a8d10c5a",
   "metadata": {},
   "outputs": [
    {
     "data": {
      "text/plain": [
       "'Once upon a time'"
      ]
     },
     "execution_count": 21,
     "metadata": {},
     "output_type": "execute_result"
    }
   ],
   "source": [
    "\"once upon a time\".capitalize()"
   ]
  },
  {
   "cell_type": "code",
   "execution_count": 22,
   "id": "ca650f9a",
   "metadata": {},
   "outputs": [
    {
     "data": {
      "text/plain": [
       "'Ronald Mcdonaland'"
      ]
     },
     "execution_count": 22,
     "metadata": {},
     "output_type": "execute_result"
    }
   ],
   "source": [
    "\"ronald mcdonaland\".title()"
   ]
  },
  {
   "cell_type": "code",
   "execution_count": 25,
   "id": "2bb2bfad",
   "metadata": {},
   "outputs": [],
   "source": [
    "profession = \"     Developer     \"\n",
    "# added white space to the string. the first string is updated with this one."
   ]
  },
  {
   "cell_type": "markdown",
   "id": "c6e0c438",
   "metadata": {},
   "source": [
    "## Strip: Removes white space, tabs, etc\n",
    "### lstrip: left strip, removes left white space\n",
    "### rstrip: right strip, removed right white space"
   ]
  },
  {
   "cell_type": "code",
   "execution_count": 26,
   "id": "25b3107b",
   "metadata": {},
   "outputs": [
    {
     "data": {
      "text/plain": [
       "'Developer     '"
      ]
     },
     "execution_count": 26,
     "metadata": {},
     "output_type": "execute_result"
    }
   ],
   "source": [
    "profession.lstrip()"
   ]
  },
  {
   "cell_type": "code",
   "execution_count": 27,
   "id": "8e408331",
   "metadata": {},
   "outputs": [
    {
     "data": {
      "text/plain": [
       "'     Developer'"
      ]
     },
     "execution_count": 27,
     "metadata": {},
     "output_type": "execute_result"
    }
   ],
   "source": [
    "profession.rstrip()"
   ]
  },
  {
   "cell_type": "code",
   "execution_count": 28,
   "id": "5f0d6acf",
   "metadata": {},
   "outputs": [
    {
     "data": {
      "text/plain": [
       "'Developer'"
      ]
     },
     "execution_count": 28,
     "metadata": {},
     "output_type": "execute_result"
    }
   ],
   "source": [
    "profession.strip()"
   ]
  },
  {
   "cell_type": "markdown",
   "id": "859e1362",
   "metadata": {},
   "source": [
    "# Accepts Arguments"
   ]
  },
  {
   "cell_type": "markdown",
   "id": "1db37ea6",
   "metadata": {},
   "source": [
    "## Replace: Similar to \"Find and Replace\""
   ]
  },
  {
   "cell_type": "code",
   "execution_count": 32,
   "id": "00981da9",
   "metadata": {},
   "outputs": [
    {
     "data": {
      "text/plain": [
       "'     D*!v*!lop*!r     '"
      ]
     },
     "execution_count": 32,
     "metadata": {},
     "output_type": "execute_result"
    }
   ],
   "source": [
    "profession.replace(\"e\", \"*!\")"
   ]
  },
  {
   "cell_type": "markdown",
   "id": "720a0294",
   "metadata": {},
   "source": [
    "### Method Chaining: Multiple methods being invoked in a row (sequence of methods, all getting executed at once):"
   ]
  },
  {
   "cell_type": "code",
   "execution_count": 34,
   "id": "d82d6de0",
   "metadata": {},
   "outputs": [
    {
     "data": {
      "text/plain": [
       "'D*v*lop*r'"
      ]
     },
     "execution_count": 34,
     "metadata": {},
     "output_type": "execute_result"
    }
   ],
   "source": [
    "profession.strip().replace(\"e\", \"*\")"
   ]
  },
  {
   "cell_type": "code",
   "execution_count": 35,
   "id": "befc0229",
   "metadata": {},
   "outputs": [],
   "source": [
    "animal = \"rhinocerous\""
   ]
  },
  {
   "cell_type": "markdown",
   "id": "547916dc",
   "metadata": {},
   "source": [
    "### Startswith: used when we need to check for substring (a smaller string) at the beginning of another string.\n",
    "### Startswith: used when we need to check for substring (a smaller string) at the beginning of another string.\n",
    "#### Really helpful when we want to extract text from a larger piece of text. Helpful for Data Analysis."
   ]
  },
  {
   "cell_type": "code",
   "execution_count": 36,
   "id": "04cdc2fc",
   "metadata": {},
   "outputs": [
    {
     "data": {
      "text/plain": [
       "True"
      ]
     },
     "execution_count": 36,
     "metadata": {},
     "output_type": "execute_result"
    }
   ],
   "source": [
    "animal.startswith(\"rhino\")"
   ]
  },
  {
   "cell_type": "code",
   "execution_count": 37,
   "id": "fdfb1810",
   "metadata": {},
   "outputs": [
    {
     "data": {
      "text/plain": [
       "False"
      ]
     },
     "execution_count": 37,
     "metadata": {},
     "output_type": "execute_result"
    }
   ],
   "source": [
    "animal.startswith(\"ajshjkn\")"
   ]
  },
  {
   "cell_type": "code",
   "execution_count": 38,
   "id": "57dcaefe",
   "metadata": {},
   "outputs": [
    {
     "data": {
      "text/plain": [
       "False"
      ]
     },
     "execution_count": 38,
     "metadata": {},
     "output_type": "execute_result"
    }
   ],
   "source": [
    "animal.startswith(\"Rhino\")"
   ]
  },
  {
   "cell_type": "code",
   "execution_count": 39,
   "id": "3d6d9183",
   "metadata": {},
   "outputs": [
    {
     "data": {
      "text/plain": [
       "False"
      ]
     },
     "execution_count": 39,
     "metadata": {},
     "output_type": "execute_result"
    }
   ],
   "source": [
    "animal.endswith(\"r\")"
   ]
  },
  {
   "cell_type": "code",
   "execution_count": 40,
   "id": "dbf83fe3",
   "metadata": {},
   "outputs": [
    {
     "data": {
      "text/plain": [
       "True"
      ]
     },
     "execution_count": 40,
     "metadata": {},
     "output_type": "execute_result"
    }
   ],
   "source": [
    "animal.endswith(\"s\")"
   ]
  },
  {
   "cell_type": "markdown",
   "id": "840d6110",
   "metadata": {},
   "source": [
    "### Operator that checks for general inclusion:"
   ]
  },
  {
   "cell_type": "markdown",
   "id": "e3b749e3",
   "metadata": {},
   "source": [
    "#### In: Checks wheater the object on the left belongs in the object on the right. checks generally throughout the entire string rather than just the beginning or end."
   ]
  },
  {
   "cell_type": "code",
   "execution_count": 42,
   "id": "019b70d2",
   "metadata": {},
   "outputs": [
    {
     "data": {
      "text/plain": [
       "True"
      ]
     },
     "execution_count": 42,
     "metadata": {},
     "output_type": "execute_result"
    }
   ],
   "source": [
    "\"ino\" in animal"
   ]
  },
  {
   "cell_type": "code",
   "execution_count": 43,
   "id": "64622280",
   "metadata": {},
   "outputs": [
    {
     "data": {
      "text/plain": [
       "True"
      ]
     },
     "execution_count": 43,
     "metadata": {},
     "output_type": "execute_result"
    }
   ],
   "source": [
    "\"r\" in animal"
   ]
  },
  {
   "cell_type": "code",
   "execution_count": 44,
   "id": "3fe3026c",
   "metadata": {},
   "outputs": [
    {
     "data": {
      "text/plain": [
       "False"
      ]
     },
     "execution_count": 44,
     "metadata": {},
     "output_type": "execute_result"
    }
   ],
   "source": [
    "\"ceros\" in animal"
   ]
  },
  {
   "cell_type": "code",
   "execution_count": 45,
   "id": "9591e54f",
   "metadata": {},
   "outputs": [
    {
     "data": {
      "text/plain": [
       "False"
      ]
     },
     "execution_count": 45,
     "metadata": {},
     "output_type": "execute_result"
    }
   ],
   "source": [
    "\"z\" in animal"
   ]
  },
  {
   "cell_type": "markdown",
   "id": "4f1646ef",
   "metadata": {},
   "source": [
    "#### NOT IN: Retuns true when keyword is not found within the string."
   ]
  },
  {
   "cell_type": "code",
   "execution_count": 46,
   "id": "c516f5c6",
   "metadata": {},
   "outputs": [
    {
     "data": {
      "text/plain": [
       "True"
      ]
     },
     "execution_count": 46,
     "metadata": {},
     "output_type": "execute_result"
    }
   ],
   "source": [
    "\"z\" not in animal"
   ]
  },
  {
   "cell_type": "code",
   "execution_count": 48,
   "id": "ba358878",
   "metadata": {},
   "outputs": [
    {
     "data": {
      "text/plain": [
       "False"
      ]
     },
     "execution_count": 48,
     "metadata": {},
     "output_type": "execute_result"
    }
   ],
   "source": [
    "\"rhino\" not in animal"
   ]
  },
  {
   "cell_type": "markdown",
   "id": "1eb7dfdf",
   "metadata": {},
   "source": [
    "# LISTS\n",
    "## MUTABLE data structure that holds an ordered collection of elements."
   ]
  },
  {
   "cell_type": "code",
   "execution_count": 51,
   "id": "5177b0e5",
   "metadata": {},
   "outputs": [],
   "source": [
    "# Elements: Object within lists (numbers/strings/booleans/other lists/)\n",
    "# List/Array: A container for storing objects in order."
   ]
  },
  {
   "cell_type": "code",
   "execution_count": 52,
   "id": "1486db0a",
   "metadata": {},
   "outputs": [
    {
     "data": {
      "text/plain": [
       "[1, 2, 3, 4]"
      ]
     },
     "execution_count": 52,
     "metadata": {},
     "output_type": "execute_result"
    }
   ],
   "source": [
    "[1, 2, 3, 4]"
   ]
  },
  {
   "cell_type": "code",
   "execution_count": 54,
   "id": "55c6e7f2",
   "metadata": {},
   "outputs": [
    {
     "data": {
      "text/plain": [
       "[True, False, False, True]"
      ]
     },
     "execution_count": 54,
     "metadata": {},
     "output_type": "execute_result"
    }
   ],
   "source": [
    "[True, False, False, True]"
   ]
  },
  {
   "cell_type": "code",
   "execution_count": 55,
   "id": "ae992a3e",
   "metadata": {},
   "outputs": [],
   "source": [
    "party_attendees = [\"Micheal\", \"Freddy\", \"Jason\"]"
   ]
  },
  {
   "cell_type": "code",
   "execution_count": 56,
   "id": "b9664135",
   "metadata": {},
   "outputs": [
    {
     "data": {
      "text/plain": [
       "['Micheal', 'Freddy', 'Jason']"
      ]
     },
     "execution_count": 56,
     "metadata": {},
     "output_type": "execute_result"
    }
   ],
   "source": [
    "party_attendees"
   ]
  },
  {
   "cell_type": "code",
   "execution_count": 57,
   "id": "a3bbee41",
   "metadata": {},
   "outputs": [
    {
     "data": {
      "text/plain": [
       "[]"
      ]
     },
     "execution_count": 57,
     "metadata": {},
     "output_type": "execute_result"
    }
   ],
   "source": [
    "[]"
   ]
  },
  {
   "cell_type": "code",
   "execution_count": 58,
   "id": "bbdf3c47",
   "metadata": {},
   "outputs": [
    {
     "data": {
      "text/plain": [
       "3"
      ]
     },
     "execution_count": 58,
     "metadata": {},
     "output_type": "execute_result"
    }
   ],
   "source": [
    "len(party_attendees)"
   ]
  },
  {
   "cell_type": "code",
   "execution_count": 59,
   "id": "567f72ea",
   "metadata": {},
   "outputs": [
    {
     "data": {
      "text/plain": [
       "list"
      ]
     },
     "execution_count": 59,
     "metadata": {},
     "output_type": "execute_result"
    }
   ],
   "source": [
    "type(party_attendees)"
   ]
  },
  {
   "cell_type": "markdown",
   "id": "ebaa9572",
   "metadata": {},
   "source": [
    "## APPEND: Grows the list in size. adds an element at the end of the list.\n",
    "## POP: Shrinks the list in size, removes last element of the list.\n",
    "## REMOVE: Removes specific element (defined element)"
   ]
  },
  {
   "cell_type": "code",
   "execution_count": 65,
   "id": "aaac2a97",
   "metadata": {},
   "outputs": [],
   "source": [
    "presidents = [\"Washington\", \"Jefferson\"]"
   ]
  },
  {
   "cell_type": "code",
   "execution_count": 67,
   "id": "57accf6f",
   "metadata": {},
   "outputs": [],
   "source": [
    "presidents.append(\"Madison\")"
   ]
  },
  {
   "cell_type": "code",
   "execution_count": 68,
   "id": "15124cb8",
   "metadata": {},
   "outputs": [
    {
     "data": {
      "text/plain": [
       "['Washington', 'Jefferson', 'Madison']"
      ]
     },
     "execution_count": 68,
     "metadata": {},
     "output_type": "execute_result"
    }
   ],
   "source": [
    "presidents"
   ]
  },
  {
   "cell_type": "code",
   "execution_count": 70,
   "id": "20851e29",
   "metadata": {},
   "outputs": [
    {
     "data": {
      "text/plain": [
       "['Salted', 'Unsalted', 'Caramel']"
      ]
     },
     "execution_count": 70,
     "metadata": {},
     "output_type": "execute_result"
    }
   ],
   "source": [
    "popcorn = [\"Salted\", \"Unsalted\", \"Caramel\"]\n",
    "popcorn"
   ]
  },
  {
   "cell_type": "code",
   "execution_count": 71,
   "id": "6b5c2a39",
   "metadata": {},
   "outputs": [
    {
     "data": {
      "text/plain": [
       "'Caramel'"
      ]
     },
     "execution_count": 71,
     "metadata": {},
     "output_type": "execute_result"
    }
   ],
   "source": [
    "popcorn.pop()"
   ]
  },
  {
   "cell_type": "code",
   "execution_count": 72,
   "id": "7947b4d3",
   "metadata": {},
   "outputs": [
    {
     "data": {
      "text/plain": [
       "['Salted', 'Unsalted']"
      ]
     },
     "execution_count": 72,
     "metadata": {},
     "output_type": "execute_result"
    }
   ],
   "source": [
    "popcorn"
   ]
  },
  {
   "cell_type": "code",
   "execution_count": 74,
   "id": "e15e9746",
   "metadata": {},
   "outputs": [],
   "source": [
    "popcorn.remove(\"Salted\")"
   ]
  },
  {
   "cell_type": "code",
   "execution_count": 75,
   "id": "d5d1ab17",
   "metadata": {},
   "outputs": [
    {
     "data": {
      "text/plain": [
       "['Unsalted']"
      ]
     },
     "execution_count": 75,
     "metadata": {},
     "output_type": "execute_result"
    }
   ],
   "source": [
    "popcorn"
   ]
  },
  {
   "cell_type": "code",
   "execution_count": 76,
   "id": "3f92bbba",
   "metadata": {},
   "outputs": [
    {
     "data": {
      "text/plain": [
       "False"
      ]
     },
     "execution_count": 76,
     "metadata": {},
     "output_type": "execute_result"
    }
   ],
   "source": [
    "\"sal\" in popcorn"
   ]
  },
  {
   "cell_type": "code",
   "execution_count": 78,
   "id": "5dcd30de",
   "metadata": {},
   "outputs": [],
   "source": [
    "planets = [\"Mercury\", \"Venus\", \"Earth\", \"Mars\"]"
   ]
  },
  {
   "cell_type": "code",
   "execution_count": 79,
   "id": "629d8775",
   "metadata": {},
   "outputs": [
    {
     "data": {
      "text/plain": [
       "True"
      ]
     },
     "execution_count": 79,
     "metadata": {},
     "output_type": "execute_result"
    }
   ],
   "source": [
    "\"Earth\" in planets"
   ]
  },
  {
   "cell_type": "code",
   "execution_count": 80,
   "id": "7a93dd3c",
   "metadata": {},
   "outputs": [
    {
     "data": {
      "text/plain": [
       "False"
      ]
     },
     "execution_count": 80,
     "metadata": {},
     "output_type": "execute_result"
    }
   ],
   "source": [
    "\"earth\" in planets"
   ]
  },
  {
   "cell_type": "code",
   "execution_count": 82,
   "id": "1b462cfe",
   "metadata": {},
   "outputs": [
    {
     "data": {
      "text/plain": [
       "True"
      ]
     },
     "execution_count": 82,
     "metadata": {},
     "output_type": "execute_result"
    }
   ],
   "source": [
    "\"pluto\" not in planets"
   ]
  },
  {
   "cell_type": "code",
   "execution_count": 83,
   "id": "8b0e44da",
   "metadata": {},
   "outputs": [
    {
     "data": {
      "text/plain": [
       "False"
      ]
     },
     "execution_count": 83,
     "metadata": {},
     "output_type": "execute_result"
    }
   ],
   "source": [
    "\"Mars\" not in planets"
   ]
  },
  {
   "cell_type": "markdown",
   "id": "54bda879",
   "metadata": {},
   "source": [
    "# INDEX POSITIONS AND SLICING"
   ]
  },
  {
   "cell_type": "code",
   "execution_count": 84,
   "id": "7861e177",
   "metadata": {},
   "outputs": [],
   "source": [
    "spiderman = \"Spiderman\""
   ]
  },
  {
   "cell_type": "code",
   "execution_count": 85,
   "id": "7852eab9",
   "metadata": {},
   "outputs": [],
   "source": [
    "# 0 1 2 3\n",
    "# S p i d"
   ]
  },
  {
   "cell_type": "code",
   "execution_count": 87,
   "id": "2a1ef7d1",
   "metadata": {},
   "outputs": [
    {
     "data": {
      "text/plain": [
       "9"
      ]
     },
     "execution_count": 87,
     "metadata": {},
     "output_type": "execute_result"
    }
   ],
   "source": [
    "len(spiderman)"
   ]
  },
  {
   "cell_type": "code",
   "execution_count": 91,
   "id": "17a0fc1c",
   "metadata": {},
   "outputs": [
    {
     "data": {
      "text/plain": [
       "'e'"
      ]
     },
     "execution_count": 91,
     "metadata": {},
     "output_type": "execute_result"
    }
   ],
   "source": [
    "spiderman[0]\n",
    "spiderman[4]"
   ]
  },
  {
   "cell_type": "code",
   "execution_count": 93,
   "id": "1809a86e",
   "metadata": {},
   "outputs": [
    {
     "data": {
      "text/plain": [
       "'S'"
      ]
     },
     "execution_count": 93,
     "metadata": {},
     "output_type": "execute_result"
    }
   ],
   "source": [
    "spiderman[-1]\n",
    "spiderman[-2]\n",
    "spiderman[-9]"
   ]
  },
  {
   "cell_type": "code",
   "execution_count": 96,
   "id": "2c15217e",
   "metadata": {},
   "outputs": [
    {
     "data": {
      "text/plain": [
       "['Batman', 'Superman', 'Wolverine', 'Ironman', 'Arnold Schwarzene']"
      ]
     },
     "execution_count": 96,
     "metadata": {},
     "output_type": "execute_result"
    }
   ],
   "source": [
    "superheroes = [\"Batman\", \"Superman\", \"Wolverine\", \"Ironman\", \"Arnold Schwarzene\"]\n",
    "superheroes"
   ]
  },
  {
   "cell_type": "code",
   "execution_count": 97,
   "id": "77af2b86",
   "metadata": {},
   "outputs": [
    {
     "data": {
      "text/plain": [
       "5"
      ]
     },
     "execution_count": 97,
     "metadata": {},
     "output_type": "execute_result"
    }
   ],
   "source": [
    "len(superheroes)"
   ]
  },
  {
   "cell_type": "code",
   "execution_count": 100,
   "id": "cff84c59",
   "metadata": {},
   "outputs": [
    {
     "data": {
      "text/plain": [
       "'Arnold Schwarzene'"
      ]
     },
     "execution_count": 100,
     "metadata": {},
     "output_type": "execute_result"
    }
   ],
   "source": [
    "superheroes[0]\n",
    "superheroes[2]\n",
    "superheroes[4]"
   ]
  },
  {
   "cell_type": "code",
   "execution_count": 102,
   "id": "8e2a2b93",
   "metadata": {},
   "outputs": [
    {
     "data": {
      "text/plain": [
       "'Wolverine'"
      ]
     },
     "execution_count": 102,
     "metadata": {},
     "output_type": "execute_result"
    }
   ],
   "source": [
    "superheroes[-1]\n",
    "superheroes[-3]"
   ]
  },
  {
   "cell_type": "code",
   "execution_count": 106,
   "id": "2dafcd14",
   "metadata": {},
   "outputs": [
    {
     "data": {
      "text/plain": [
       "['Wolverine', 'Ironman']"
      ]
     },
     "execution_count": 106,
     "metadata": {},
     "output_type": "execute_result"
    }
   ],
   "source": [
    "# Includes index#1 but not index#3 elements.\n",
    "superheroes[1:3]\n",
    "superheroes[2:4]"
   ]
  },
  {
   "cell_type": "code",
   "execution_count": 109,
   "id": "5901042a",
   "metadata": {},
   "outputs": [
    {
     "data": {
      "text/plain": [
       "'pide'"
      ]
     },
     "execution_count": 109,
     "metadata": {},
     "output_type": "execute_result"
    }
   ],
   "source": [
    "spiderman[1:5]"
   ]
  },
  {
   "cell_type": "code",
   "execution_count": 110,
   "id": "2a797cf9",
   "metadata": {},
   "outputs": [
    {
     "data": {
      "text/plain": [
       "(4, 'pide')"
      ]
     },
     "execution_count": 110,
     "metadata": {},
     "output_type": "execute_result"
    }
   ],
   "source": [
    "len(spiderman[1:5]), spiderman[1:5]"
   ]
  },
  {
   "cell_type": "code",
   "execution_count": 113,
   "id": "31321303",
   "metadata": {},
   "outputs": [
    {
     "data": {
      "text/plain": [
       "['Batman', 'Superman']"
      ]
     },
     "execution_count": 113,
     "metadata": {},
     "output_type": "execute_result"
    }
   ],
   "source": [
    "superheroes[0:2]\n",
    "superheroes[:2]"
   ]
  },
  {
   "cell_type": "code",
   "execution_count": 114,
   "id": "90b3f8d3",
   "metadata": {},
   "outputs": [
    {
     "data": {
      "text/plain": [
       "['Wolverine', 'Ironman', 'Arnold Schwarzene']"
      ]
     },
     "execution_count": 114,
     "metadata": {},
     "output_type": "execute_result"
    }
   ],
   "source": [
    "superheroes[2:5]"
   ]
  },
  {
   "cell_type": "code",
   "execution_count": 116,
   "id": "aef4defa",
   "metadata": {},
   "outputs": [
    {
     "data": {
      "text/plain": [
       "['Wolverine', 'Ironman', 'Arnold Schwarzene']"
      ]
     },
     "execution_count": 116,
     "metadata": {},
     "output_type": "execute_result"
    }
   ],
   "source": [
    "superheroes[2:]"
   ]
  },
  {
   "cell_type": "code",
   "execution_count": 118,
   "id": "1a9d3ef6",
   "metadata": {},
   "outputs": [
    {
     "data": {
      "text/plain": [
       "['Batman', 'Superman', 'Wolverine', 'Ironman', 'Arnold Schwarzene']"
      ]
     },
     "execution_count": 118,
     "metadata": {},
     "output_type": "execute_result"
    }
   ],
   "source": [
    "superheroes[:]"
   ]
  },
  {
   "cell_type": "code",
   "execution_count": 120,
   "id": "c7d3c95b",
   "metadata": {},
   "outputs": [
    {
     "data": {
      "text/plain": [
       "'Spider'"
      ]
     },
     "execution_count": 120,
     "metadata": {},
     "output_type": "execute_result"
    }
   ],
   "source": [
    "spiderman[:6]"
   ]
  },
  {
   "cell_type": "code",
   "execution_count": null,
   "id": "16c65aa7",
   "metadata": {},
   "outputs": [],
   "source": []
  },
  {
   "cell_type": "code",
   "execution_count": null,
   "id": "81080af6",
   "metadata": {},
   "outputs": [],
   "source": []
  },
  {
   "cell_type": "markdown",
   "id": "b2516341",
   "metadata": {},
   "source": [
    "# DICTIONARIES:"
   ]
  },
  {
   "cell_type": "markdown",
   "id": "14f2631d",
   "metadata": {},
   "source": [
    "## The idea is we are creating bridges, connections, associations between two (2) different pieces of data. These connections are what are called KEY VALUE PAIRS in a dictonary object. \n",
    "## KEY - Serves as a unique identifiee for a given value."
   ]
  },
  {
   "cell_type": "code",
   "execution_count": 122,
   "id": "d65cc069",
   "metadata": {},
   "outputs": [],
   "source": [
    "# An unordered collection of key-value pairs."
   ]
  },
  {
   "cell_type": "code",
   "execution_count": null,
   "id": "4e95e67f",
   "metadata": {},
   "outputs": [],
   "source": [
    "# Filet Miqnon - 29.99\n",
    "# KEY          - Specific Value = KEY VALUE PAIR"
   ]
  },
  {
   "cell_type": "code",
   "execution_count": 129,
   "id": "dd42f7d5",
   "metadata": {},
   "outputs": [],
   "source": [
    "menu = {\n",
    "    \"Filet Mignan\": 29.99,\n",
    "    \"Big Mac\": 3.99,\n",
    "    \"Pizza\": 0.99,\n",
    "    \"Salmon\": 29.99\n",
    "}"
   ]
  },
  {
   "cell_type": "code",
   "execution_count": 130,
   "id": "30641998",
   "metadata": {},
   "outputs": [
    {
     "data": {
      "text/plain": [
       "{'Filet Mignan': 29.99, 'Big Mac': 3.99, 'Pizza': 0.99, 'Salmon': 29.99}"
      ]
     },
     "execution_count": 130,
     "metadata": {},
     "output_type": "execute_result"
    }
   ],
   "source": [
    "menu"
   ]
  },
  {
   "cell_type": "code",
   "execution_count": 131,
   "id": "541e7b48",
   "metadata": {},
   "outputs": [
    {
     "data": {
      "text/plain": [
       "4"
      ]
     },
     "execution_count": 131,
     "metadata": {},
     "output_type": "execute_result"
    }
   ],
   "source": [
    "len(menu)"
   ]
  },
  {
   "cell_type": "code",
   "execution_count": 133,
   "id": "2eba01c0",
   "metadata": {},
   "outputs": [
    {
     "data": {
      "text/plain": [
       "3.99"
      ]
     },
     "execution_count": 133,
     "metadata": {},
     "output_type": "execute_result"
    }
   ],
   "source": [
    "menu[\"Big Mac\"]"
   ]
  },
  {
   "cell_type": "code",
   "execution_count": 136,
   "id": "7cff335d",
   "metadata": {},
   "outputs": [
    {
     "ename": "KeyError",
     "evalue": "'salmon'",
     "output_type": "error",
     "traceback": [
      "\u001b[1;31m---------------------------------------------------------------------------\u001b[0m",
      "\u001b[1;31mKeyError\u001b[0m                                  Traceback (most recent call last)",
      "Input \u001b[1;32mIn [136]\u001b[0m, in \u001b[0;36m<cell line: 2>\u001b[1;34m()\u001b[0m\n\u001b[0;32m      1\u001b[0m \u001b[38;5;66;03m# menu[\"Tuna\"]\u001b[39;00m\n\u001b[1;32m----> 2\u001b[0m \u001b[43mmenu\u001b[49m\u001b[43m[\u001b[49m\u001b[38;5;124;43m\"\u001b[39;49m\u001b[38;5;124;43msalmon\u001b[39;49m\u001b[38;5;124;43m\"\u001b[39;49m\u001b[43m]\u001b[49m\n",
      "\u001b[1;31mKeyError\u001b[0m: 'salmon'"
     ]
    }
   ],
   "source": [
    "# ERRORS\n",
    "# menu[\"Tuna\"]\n",
    "# menu[\"salmon\"]"
   ]
  },
  {
   "cell_type": "code",
   "execution_count": 137,
   "id": "749748c9",
   "metadata": {},
   "outputs": [],
   "source": [
    "menu[\"Burrito\"] = 13.99"
   ]
  },
  {
   "cell_type": "code",
   "execution_count": 138,
   "id": "b91baa97",
   "metadata": {},
   "outputs": [
    {
     "data": {
      "text/plain": [
       "{'Filet Mignan': 29.99,\n",
       " 'Big Mac': 3.99,\n",
       " 'Pizza': 0.99,\n",
       " 'Salmon': 29.99,\n",
       " 'Burrito': 13.99}"
      ]
     },
     "execution_count": 138,
     "metadata": {},
     "output_type": "execute_result"
    }
   ],
   "source": [
    "menu"
   ]
  },
  {
   "cell_type": "code",
   "execution_count": 139,
   "id": "0bdf5baf",
   "metadata": {},
   "outputs": [],
   "source": [
    "menu[\"Big Mac\"] = 5.99"
   ]
  },
  {
   "cell_type": "code",
   "execution_count": 140,
   "id": "44900cb2",
   "metadata": {},
   "outputs": [
    {
     "data": {
      "text/plain": [
       "{'Filet Mignan': 29.99,\n",
       " 'Big Mac': 5.99,\n",
       " 'Pizza': 0.99,\n",
       " 'Salmon': 29.99,\n",
       " 'Burrito': 13.99}"
      ]
     },
     "execution_count": 140,
     "metadata": {},
     "output_type": "execute_result"
    }
   ],
   "source": [
    "menu"
   ]
  },
  {
   "cell_type": "code",
   "execution_count": 148,
   "id": "4e2a7a33",
   "metadata": {},
   "outputs": [
    {
     "ename": "KeyError",
     "evalue": "'Filet Mignan'",
     "output_type": "error",
     "traceback": [
      "\u001b[1;31m---------------------------------------------------------------------------\u001b[0m",
      "\u001b[1;31mKeyError\u001b[0m                                  Traceback (most recent call last)",
      "Input \u001b[1;32mIn [148]\u001b[0m, in \u001b[0;36m<cell line: 1>\u001b[1;34m()\u001b[0m\n\u001b[1;32m----> 1\u001b[0m \u001b[43mmenu\u001b[49m\u001b[38;5;241;43m.\u001b[39;49m\u001b[43mpop\u001b[49m\u001b[43m(\u001b[49m\u001b[38;5;124;43m\"\u001b[39;49m\u001b[38;5;124;43mFilet Mignan\u001b[39;49m\u001b[38;5;124;43m\"\u001b[39;49m\u001b[43m)\u001b[49m\n",
      "\u001b[1;31mKeyError\u001b[0m: 'Filet Mignan'"
     ]
    }
   ],
   "source": [
    "menu.pop(\"Filet Mignan\")"
   ]
  },
  {
   "cell_type": "code",
   "execution_count": 149,
   "id": "dbe69c8f",
   "metadata": {},
   "outputs": [
    {
     "data": {
      "text/plain": [
       "{'Big Mac': 5.99, 'Pizza': 0.99, 'Salmon': 29.99, 'Burrito': 13.99}"
      ]
     },
     "execution_count": 149,
     "metadata": {},
     "output_type": "execute_result"
    }
   ],
   "source": [
    "menu"
   ]
  },
  {
   "cell_type": "code",
   "execution_count": 150,
   "id": "c69f07fd",
   "metadata": {},
   "outputs": [
    {
     "data": {
      "text/plain": [
       "True"
      ]
     },
     "execution_count": 150,
     "metadata": {},
     "output_type": "execute_result"
    }
   ],
   "source": [
    "\"Pizza\" in menu"
   ]
  },
  {
   "cell_type": "code",
   "execution_count": 152,
   "id": "fd7e78b3",
   "metadata": {},
   "outputs": [
    {
     "data": {
      "text/plain": [
       "False"
      ]
     },
     "execution_count": 152,
     "metadata": {},
     "output_type": "execute_result"
    }
   ],
   "source": [
    "\"Hot Pockets\" in menu"
   ]
  },
  {
   "cell_type": "code",
   "execution_count": 153,
   "id": "a2127ca2",
   "metadata": {},
   "outputs": [
    {
     "data": {
      "text/plain": [
       "True"
      ]
     },
     "execution_count": 153,
     "metadata": {},
     "output_type": "execute_result"
    }
   ],
   "source": [
    "\"Bubble Gum\" not in menu"
   ]
  },
  {
   "cell_type": "code",
   "execution_count": 157,
   "id": "cacd2058",
   "metadata": {},
   "outputs": [
    {
     "data": {
      "text/plain": [
       "False"
      ]
     },
     "execution_count": 157,
     "metadata": {},
     "output_type": "execute_result"
    }
   ],
   "source": [
    "\"Burrito\" not in menu"
   ]
  },
  {
   "cell_type": "code",
   "execution_count": 158,
   "id": "d2d0319d",
   "metadata": {},
   "outputs": [
    {
     "data": {
      "text/plain": [
       "False"
      ]
     },
     "execution_count": 158,
     "metadata": {},
     "output_type": "execute_result"
    }
   ],
   "source": [
    "5.99 in menu"
   ]
  },
  {
   "cell_type": "code",
   "execution_count": 159,
   "id": "880e1076",
   "metadata": {},
   "outputs": [
    {
     "data": {
      "text/plain": [
       "dict_values([5.99, 0.99, 29.99, 13.99])"
      ]
     },
     "execution_count": 159,
     "metadata": {},
     "output_type": "execute_result"
    }
   ],
   "source": [
    "menu.values()"
   ]
  },
  {
   "cell_type": "code",
   "execution_count": 161,
   "id": "9274b478",
   "metadata": {},
   "outputs": [
    {
     "data": {
      "text/plain": [
       "True"
      ]
     },
     "execution_count": 161,
     "metadata": {},
     "output_type": "execute_result"
    }
   ],
   "source": [
    "5.99 in menu.values()"
   ]
  },
  {
   "cell_type": "code",
   "execution_count": 162,
   "id": "2f2563c8",
   "metadata": {},
   "outputs": [
    {
     "data": {
      "text/plain": [
       "False"
      ]
     },
     "execution_count": 162,
     "metadata": {},
     "output_type": "execute_result"
    }
   ],
   "source": [
    "99.95 in menu.values()"
   ]
  },
  {
   "cell_type": "code",
   "execution_count": null,
   "id": "0c0fe349",
   "metadata": {},
   "outputs": [],
   "source": []
  }
 ],
 "metadata": {
  "kernelspec": {
   "display_name": "Python 3 (ipykernel)",
   "language": "python",
   "name": "python3"
  },
  "language_info": {
   "codemirror_mode": {
    "name": "ipython",
    "version": 3
   },
   "file_extension": ".py",
   "mimetype": "text/x-python",
   "name": "python",
   "nbconvert_exporter": "python",
   "pygments_lexer": "ipython3",
   "version": "3.10.0"
  }
 },
 "nbformat": 4,
 "nbformat_minor": 5
}
